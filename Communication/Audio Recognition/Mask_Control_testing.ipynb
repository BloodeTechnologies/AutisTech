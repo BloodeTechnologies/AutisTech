{
 "cells": [
  {
   "cell_type": "code",
   "execution_count": 17,
   "metadata": {},
   "outputs": [],
   "source": [
    "try:\n",
    "    import tkinter as tk\n",
    "except ImportError:\n",
    "    import Tkinter as tk  # Python 2\n",
    "\n",
    "root = tk.Tk()\n",
    "canvas = tk.Canvas(root, width=1024, height=500, borderwidth=0, highlightthickness=0,\n",
    "                   bg=\"black\")\n",
    "canvas.grid()\n",
    "\n",
    "def _create_circle(self, x, y, r, **kwargs):\n",
    "    return self.create_oval(x-r, y-r, x+r, y+r, **kwargs)\n",
    "tk.Canvas.create_circle = _create_circle\n",
    "\n",
    "def Init_Grid(x=60, y=30):\n",
    "    for xi in range(0, x):\n",
    "        for yi in range(0, y):\n",
    "            canvas.create_circle(100+(12 * xi), 100+(12*yi), 6, fill=\"blue\",)\n",
    "Init_Grid()\n",
    "root.title(\"Circles and Arcs\")\n",
    "root.mainloop()"
   ]
  }
 ],
 "metadata": {
  "kernelspec": {
   "display_name": ".venv",
   "language": "python",
   "name": "python3"
  },
  "language_info": {
   "codemirror_mode": {
    "name": "ipython",
    "version": 3
   },
   "file_extension": ".py",
   "mimetype": "text/x-python",
   "name": "python",
   "nbconvert_exporter": "python",
   "pygments_lexer": "ipython3",
   "version": "3.10.0"
  }
 },
 "nbformat": 4,
 "nbformat_minor": 2
}
